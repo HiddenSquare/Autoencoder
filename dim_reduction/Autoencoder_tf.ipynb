{
 "cells": [
  {
   "cell_type": "markdown",
   "metadata": {},
   "source": [
    "## Autoencoders\n",
    "\n",
    "** Trying out different types dimensionality reduction techniques using neural networks **\n",
    "\n",
    "- Numerical inputs\n",
    "- Categorical (nominal/ordinal) transformed to one-hot representation\n",
    "\n",
    "\n",
    "** Notes: **\n",
    "\n",
    "add regularization - Dropout?\n",
    "Make the network class more general"
   ]
  },
  {
   "cell_type": "code",
   "execution_count": 1,
   "metadata": {},
   "outputs": [],
   "source": [
    "import numpy as np\n",
    "import tensorflow as tf\n",
    "from sklearn import datasets\n",
    "import math\n",
    "import matplotlib.pyplot as plt\n",
    "import pandas as pd"
   ]
  },
  {
   "cell_type": "code",
   "execution_count": 9,
   "metadata": {},
   "outputs": [],
   "source": [
    "iris_dataset = datasets.load_iris()\n",
    "wine_dataset = datasets.load_wine()\n",
    "mushroom_dataset = pd.read_csv(\".data/mushrooms_full.csv\", sep=\";\")\n",
    "mushroom_dataset = mushroom_dataset.dropna()"
   ]
  },
  {
   "cell_type": "code",
   "execution_count": 4,
   "metadata": {},
   "outputs": [
    {
     "data": {
      "text/plain": [
       "dict_keys(['feature_names', 'data', 'target_names', 'filename', 'DESCR', 'target'])"
      ]
     },
     "execution_count": 4,
     "metadata": {},
     "output_type": "execute_result"
    }
   ],
   "source": [
    "iris_dataset.keys()"
   ]
  },
  {
   "cell_type": "code",
   "execution_count": 44,
   "metadata": {},
   "outputs": [
    {
     "data": {
      "text/plain": [
       "['sepal length (cm)',\n",
       " 'sepal width (cm)',\n",
       " 'petal length (cm)',\n",
       " 'petal width (cm)']"
      ]
     },
     "execution_count": 44,
     "metadata": {},
     "output_type": "execute_result"
    }
   ],
   "source": [
    "iris_dataset[\"feature_names\"]"
   ]
  },
  {
   "cell_type": "code",
   "execution_count": 4,
   "metadata": {},
   "outputs": [],
   "source": [
    "color_mapping = {0: \"red\", 1: \"blue\", 2: \"green\"}\n"
   ]
  },
  {
   "cell_type": "code",
   "execution_count": 3,
   "metadata": {},
   "outputs": [],
   "source": [
    "def batch_generator(features, batch_size=50, n_epochs=1000):\n",
    "    \"\"\"\n",
    "    Batch generator for the iris dataset\n",
    "    \"\"\"\n",
    "\n",
    "    # Generate batches\n",
    "    for epoch in range(n_epochs):\n",
    "        start_index = 0\n",
    "        while start_index != -1:\n",
    "            # Calculate the end index of the batch to generate\n",
    "            end_index = start_index + batch_size if start_index + batch_size < n else -1\n",
    "\n",
    "            yield features[start_index:end_index]\n",
    "\n",
    "            start_index = end_index"
   ]
  },
  {
   "cell_type": "code",
   "execution_count": 12,
   "metadata": {},
   "outputs": [],
   "source": [
    "# Auto Encoder, simple network\n",
    "class TF_AutoEncoder:\n",
    "    def __init__(self, features, labels, dtype=tf.float32):\n",
    "        self.features = features\n",
    "        self.labels = labels\n",
    "        self.dtype = dtype\n",
    "\n",
    "        self.encoder = dict()\n",
    "\n",
    "    def fit(self, n_dimensions):\n",
    "        graph = tf.Graph()\n",
    "        with graph.as_default():\n",
    "\n",
    "            # Input variable\n",
    "            X = tf.placeholder(self.dtype, shape=(None, self.features.shape[1]))\n",
    "\n",
    "            # Network variables\n",
    "            encoder_weights = tf.Variable(tf.random_normal(shape=(self.features.shape[1], n_dimensions)))\n",
    "            encoder_bias = tf.Variable(tf.zeros(shape=[n_dimensions]))\n",
    "\n",
    "            decoder_weights = tf.Variable(tf.random_normal(shape=(n_dimensions, self.features.shape[1])))\n",
    "            decoder_bias = tf.Variable(tf.zeros(shape=[self.features.shape[1]]))\n",
    "\n",
    "            # Encoder part (1 layer)\n",
    "            encoding = tf.nn.sigmoid(tf.add(tf.matmul(X, encoder_weights), encoder_bias))\n",
    "\n",
    "            # Decoder part (1 layer)\n",
    "            predicted_x = tf.nn.sigmoid(tf.add(tf.matmul(encoding, decoder_weights), decoder_bias))\n",
    "\n",
    "            # Define the cost function and optimizer to minimize squared error\n",
    "            cost = tf.reduce_mean(tf.pow(tf.subtract(predicted_x, X), 2))\n",
    "            optimizer = tf.train.AdamOptimizer().minimize(cost)\n",
    "\n",
    "        with tf.Session(graph=graph) as session:\n",
    "            # Initialize global variables\n",
    "            session.run(tf.global_variables_initializer())\n",
    "\n",
    "            for batch_x in batch_generator(self.features):\n",
    "                self.encoder['weights'], self.encoder['bias'], _ = session.run([encoder_weights, encoder_bias, optimizer],\n",
    "                                                                            feed_dict={X: batch_x})\n",
    "\n",
    "    def reduce(self):\n",
    "        return np.add(np.matmul(self.features, self.encoder['weights']), self.encoder['bias'])"
   ]
  },
  {
   "cell_type": "markdown",
   "metadata": {},
   "source": [
    "** Test on Iris **"
   ]
  },
  {
   "cell_type": "code",
   "execution_count": 30,
   "metadata": {},
   "outputs": [
    {
     "data": {
      "text/plain": [
       "<matplotlib.collections.PathCollection at 0x2928c054828>"
      ]
     },
     "execution_count": 30,
     "metadata": {},
     "output_type": "execute_result"
    },
    {
     "data": {
      "image/png": "[encoded data removed]",
      "text/plain": [
       "<Figure size 432x288 with 1 Axes>"
      ]
     },
     "metadata": {
      "needs_background": "light"
     },
     "output_type": "display_data"
    }
   ],
   "source": [
    "# Mix the data before training\n",
    "n = len(iris_dataset.data)\n",
    "random_idx = np.random.permutation(n)\n",
    "features, labels = iris_dataset.data[random_idx], iris_dataset.target[random_idx]\n",
    "\n",
    "# Create an instance and encode\n",
    "tf_ae = TF_AutoEncoder(features, labels)\n",
    "\n",
    "tf_ae.fit(n_dimensions=4)\n",
    "\n",
    "auto_encoded = tf_ae.reduce()\n",
    "\n",
    "colors = list(map(lambda x: color_mapping[x], labels))\n",
    "\n",
    "plt.scatter(auto_encoded[:, 0], auto_encoded[:, 1], c=colors)"
   ]
  },
  {
   "cell_type": "code",
   "execution_count": 31,
   "metadata": {},
   "outputs": [
    {
     "data": {
      "text/plain": [
       "(4, 4)"
      ]
     },
     "execution_count": 31,
     "metadata": {},
     "output_type": "execute_result"
    }
   ],
   "source": [
    "tf_ae.encoder[\"weights\"].shape"
   ]
  },
  {
   "cell_type": "code",
   "execution_count": 14,
   "metadata": {},
   "outputs": [],
   "source": [
    "# Auto Encoder, larger network\n",
    "class TF_AutoEncoder:\n",
    "    def __init__(self, features, labels, dtype=tf.float32):\n",
    "        self.features = features\n",
    "        self.labels = labels\n",
    "        self.dtype = dtype\n",
    "        self.epochs = 500\n",
    "        self.batch_size = 250\n",
    "        self.encoder = dict()\n",
    "\n",
    "    def fit(self, n_dim):\n",
    "        graph = tf.Graph()\n",
    "        with graph.as_default():\n",
    "\n",
    "            # Input variable\n",
    "            X = tf.placeholder(self.dtype, shape=(None, self.features.shape[1]))\n",
    "\n",
    "            # Network variables - encoder layers\n",
    "            encoder_weights_1 = tf.Variable(tf.random_normal(shape=(self.features.shape[1], n_dim[0])))\n",
    "            encoder_bias_1 = tf.Variable(tf.zeros(shape=[n_dim[0]]))\n",
    "            \n",
    "            encoder_weights_2 = tf.Variable(tf.random_normal(shape=(n_dim[0], n_dim[1])))\n",
    "            encoder_bias_2 = tf.Variable(tf.zeros(shape=[n_dim[1]]))\n",
    "            \n",
    "            # Network variables - decoder layers\n",
    "            decoder_weights_1 = tf.Variable(tf.random_normal(shape=(n_dim[1], n_dim[0])))\n",
    "            decoder_bias_1 = tf.Variable(tf.zeros(shape=[n_dim[0]]))\n",
    "            \n",
    "            decoder_weights_2 = tf.Variable(tf.random_normal(shape=(n_dim[0], self.features.shape[1])))\n",
    "            decoder_bias_2 = tf.Variable(tf.zeros(shape=[self.features.shape[1]]))\n",
    "            \n",
    "            # Encoder part (2 layers)\n",
    "            encoding_1 = tf.nn.relu(tf.add(tf.matmul(X, encoder_weights_1), encoder_bias_1))\n",
    "            encoding_2 = tf.nn.relu(tf.add(tf.matmul(encoding_1, encoder_weights_2), encoder_bias_2))\n",
    "            \n",
    "            # Decoder part (2 layers)\n",
    "            decoder_1 = tf.nn.relu(tf.add(tf.matmul(encoding_2, decoder_weights_1), decoder_bias_1))\n",
    "            predicted_x = tf.nn.relu(tf.add(tf.matmul(decoder_1, decoder_weights_2), decoder_bias_2))\n",
    "\n",
    "            # Define the cost function and optimizer to minimize squared error\n",
    "            cost = tf.reduce_mean(tf.pow(tf.subtract(predicted_x, X), 2))\n",
    "            optimizer = tf.train.AdamOptimizer().minimize(cost)\n",
    "\n",
    "        with tf.Session(graph=graph) as session:\n",
    "            # Initialize global variables\n",
    "            session.run(tf.global_variables_initializer())\n",
    "            \n",
    "            iter_count = 0\n",
    "            for batch_x in batch_generator(self.features, self.batch_size, self.epochs):\n",
    "                self.encoder[\"weights_0\"], self.encoder['bias_0'], self.encoder['weights_1'], self.encoder['bias_1'], _, loss = session.run([encoder_weights_1,\n",
    "                                                                                                                                        encoder_bias_1,\n",
    "                                                                                                                                        encoder_weights_2, \n",
    "                                                                                                                                        encoder_bias_2,\n",
    "                                                                                                                                        optimizer, cost],\n",
    "                                                                                                                                        feed_dict={X: batch_x})\n",
    "                iter_count += 1\n",
    "                if iter_count % 500 == 0:\n",
    "                    print(\"iter: {}, loss: {}\".format(iter_count,loss))\n",
    "        print(iter_count)\n",
    "        \n",
    "    def reduce(self):\n",
    "        layer_1 = np.add(np.matmul(self.features, self.encoder['weights_0']), self.encoder['bias_0'])\n",
    "        activation = np.maximum(layer_1, 0, layer_1)\n",
    "        print(layer_1.shape)\n",
    "        return np.add(np.matmul(activation, self.encoder['weights_1']), self.encoder['bias_1'])"
   ]
  },
  {
   "cell_type": "markdown",
   "metadata": {},
   "source": [
    "### Slightly larger dataset in terms of variables, numerical input"
   ]
  },
  {
   "cell_type": "code",
   "execution_count": 37,
   "metadata": {},
   "outputs": [
    {
     "name": "stdout",
     "output_type": "stream",
     "text": [
      "iter: 500, loss: 50687.9296875\n",
      "500\n"
     ]
    }
   ],
   "source": [
    "# Mix the data before training\n",
    "n = len(wine_dataset.data)\n",
    "random_idx = np.random.permutation(n)\n",
    "features, labels = wine_dataset.data[random_idx], wine_dataset.target[random_idx]\n",
    "\n",
    "# Create an instance and encode\n",
    "tf_ae = TF_AutoEncoder(features, labels)\n",
    "\n",
    "tf_ae.fit(n_dim=[8,4])\n",
    "\n"
   ]
  },
  {
   "cell_type": "code",
   "execution_count": 16,
   "metadata": {},
   "outputs": [
    {
     "name": "stdout",
     "output_type": "stream",
     "text": [
      "(178, 8)\n"
     ]
    }
   ],
   "source": [
    "auto_encoded = tf_ae.reduce()"
   ]
  },
  {
   "cell_type": "code",
   "execution_count": 22,
   "metadata": {},
   "outputs": [
    {
     "data": {
      "text/plain": [
       "<matplotlib.collections.PathCollection at 0x21e0e1697f0>"
      ]
     },
     "execution_count": 22,
     "metadata": {},
     "output_type": "execute_result"
    },
    {
     "data": {
      "image/png": "[encoded data removed]",
      "text/plain": [
       "<Figure size 432x288 with 1 Axes>"
      ]
     },
     "metadata": {
      "needs_background": "light"
     },
     "output_type": "display_data"
    }
   ],
   "source": [
    "colors = list(map(lambda x: color_mapping[x], labels))\n",
    "\n",
    "plt.scatter(auto_encoded[:, 1], auto_encoded[:, 3], c=colors)"
   ]
  },
  {
   "cell_type": "code",
   "execution_count": 71,
   "metadata": {},
   "outputs": [
    {
     "name": "stdout",
     "output_type": "stream",
     "text": [
      "(178, 13)\n",
      "(10, 5)\n",
      "(5,)\n",
      "(178, 5)\n"
     ]
    }
   ],
   "source": [
    "print(tf_ae.features.shape)\n",
    "print(tf_ae.encoder[\"weights_1\"].shape)\n",
    "print(tf_ae.encoder[\"bias_1\"].shape)\n",
    "print(auto_encoded.shape)\n"
   ]
  },
  {
   "cell_type": "markdown",
   "metadata": {},
   "source": [
    "### Categorical input"
   ]
  },
  {
   "cell_type": "code",
   "execution_count": 11,
   "metadata": {},
   "outputs": [
    {
     "data": {
      "text/html": [
       "<div>\n",
       "<style scoped>\n",
       "    .dataframe tbody tr th:only-of-type {\n",
       "        vertical-align: middle;\n",
       "    }\n",
       "\n",
       "    .dataframe tbody tr th {\n",
       "        vertical-align: top;\n",
       "    }\n",
       "\n",
       "    .dataframe thead th {\n",
       "        text-align: right;\n",
       "    }\n",
       "</style>\n",
       "<table border=\"1\" class=\"dataframe\">\n",
       "  <thead>\n",
       "    <tr style=\"text-align: right;\">\n",
       "      <th></th>\n",
       "      <th>label</th>\n",
       "      <th>cap-shape</th>\n",
       "      <th>cap-surface</th>\n",
       "      <th>cap-color</th>\n",
       "      <th>bruises</th>\n",
       "      <th>odor</th>\n",
       "      <th>gill-attachment</th>\n",
       "      <th>gill-spacing</th>\n",
       "      <th>gill-size</th>\n",
       "      <th>gill-color</th>\n",
       "      <th>...</th>\n",
       "      <th>stalk-surface-below-ring</th>\n",
       "      <th>stalk-color-above-ring</th>\n",
       "      <th>stalk-color-below-ring</th>\n",
       "      <th>veil-type</th>\n",
       "      <th>veil-color</th>\n",
       "      <th>ring-number</th>\n",
       "      <th>ring-type</th>\n",
       "      <th>spore-print-color</th>\n",
       "      <th>population</th>\n",
       "      <th>habitat</th>\n",
       "    </tr>\n",
       "  </thead>\n",
       "  <tbody>\n",
       "    <tr>\n",
       "      <th>count</th>\n",
       "      <td>8124</td>\n",
       "      <td>8124</td>\n",
       "      <td>8124</td>\n",
       "      <td>8124</td>\n",
       "      <td>8124</td>\n",
       "      <td>8124</td>\n",
       "      <td>8124</td>\n",
       "      <td>8124</td>\n",
       "      <td>8124</td>\n",
       "      <td>8124</td>\n",
       "      <td>...</td>\n",
       "      <td>8124</td>\n",
       "      <td>8124</td>\n",
       "      <td>8124</td>\n",
       "      <td>8124</td>\n",
       "      <td>8124</td>\n",
       "      <td>8124</td>\n",
       "      <td>8124</td>\n",
       "      <td>8124</td>\n",
       "      <td>8124</td>\n",
       "      <td>8124</td>\n",
       "    </tr>\n",
       "    <tr>\n",
       "      <th>unique</th>\n",
       "      <td>2</td>\n",
       "      <td>6</td>\n",
       "      <td>4</td>\n",
       "      <td>10</td>\n",
       "      <td>2</td>\n",
       "      <td>9</td>\n",
       "      <td>2</td>\n",
       "      <td>2</td>\n",
       "      <td>2</td>\n",
       "      <td>12</td>\n",
       "      <td>...</td>\n",
       "      <td>4</td>\n",
       "      <td>9</td>\n",
       "      <td>9</td>\n",
       "      <td>1</td>\n",
       "      <td>4</td>\n",
       "      <td>3</td>\n",
       "      <td>5</td>\n",
       "      <td>9</td>\n",
       "      <td>6</td>\n",
       "      <td>7</td>\n",
       "    </tr>\n",
       "    <tr>\n",
       "      <th>top</th>\n",
       "      <td>e</td>\n",
       "      <td>x</td>\n",
       "      <td>y</td>\n",
       "      <td>n</td>\n",
       "      <td>f</td>\n",
       "      <td>n</td>\n",
       "      <td>f</td>\n",
       "      <td>c</td>\n",
       "      <td>b</td>\n",
       "      <td>b</td>\n",
       "      <td>...</td>\n",
       "      <td>s</td>\n",
       "      <td>w</td>\n",
       "      <td>w</td>\n",
       "      <td>p</td>\n",
       "      <td>w</td>\n",
       "      <td>o</td>\n",
       "      <td>p</td>\n",
       "      <td>w</td>\n",
       "      <td>v</td>\n",
       "      <td>d</td>\n",
       "    </tr>\n",
       "    <tr>\n",
       "      <th>freq</th>\n",
       "      <td>4208</td>\n",
       "      <td>3656</td>\n",
       "      <td>3244</td>\n",
       "      <td>2284</td>\n",
       "      <td>4748</td>\n",
       "      <td>3528</td>\n",
       "      <td>7914</td>\n",
       "      <td>6812</td>\n",
       "      <td>5612</td>\n",
       "      <td>1728</td>\n",
       "      <td>...</td>\n",
       "      <td>4936</td>\n",
       "      <td>4464</td>\n",
       "      <td>4384</td>\n",
       "      <td>8124</td>\n",
       "      <td>7924</td>\n",
       "      <td>7488</td>\n",
       "      <td>3968</td>\n",
       "      <td>2388</td>\n",
       "      <td>4040</td>\n",
       "      <td>3148</td>\n",
       "    </tr>\n",
       "  </tbody>\n",
       "</table>\n",
       "<p>4 rows × 23 columns</p>\n",
       "</div>"
      ],
      "text/plain": [
       "       label cap-shape cap-surface cap-color bruises  odor gill-attachment  \\\n",
       "count   8124      8124        8124      8124    8124  8124            8124   \n",
       "unique     2         6           4        10       2     9               2   \n",
       "top        e         x           y         n       f     n               f   \n",
       "freq    4208      3656        3244      2284    4748  3528            7914   \n",
       "\n",
       "       gill-spacing gill-size gill-color   ...   stalk-surface-below-ring  \\\n",
       "count          8124      8124       8124   ...                       8124   \n",
       "unique            2         2         12   ...                          4   \n",
       "top               c         b          b   ...                          s   \n",
       "freq           6812      5612       1728   ...                       4936   \n",
       "\n",
       "       stalk-color-above-ring stalk-color-below-ring veil-type veil-color  \\\n",
       "count                    8124                   8124      8124       8124   \n",
       "unique                      9                      9         1          4   \n",
       "top                         w                      w         p          w   \n",
       "freq                     4464                   4384      8124       7924   \n",
       "\n",
       "       ring-number ring-type spore-print-color population habitat  \n",
       "count         8124      8124              8124       8124    8124  \n",
       "unique           3         5                 9          6       7  \n",
       "top              o         p                 w          v       d  \n",
       "freq          7488      3968              2388       4040    3148  \n",
       "\n",
       "[4 rows x 23 columns]"
      ]
     },
     "execution_count": 11,
     "metadata": {},
     "output_type": "execute_result"
    }
   ],
   "source": [
    "mushroom_dataset.describe()"
   ]
  },
  {
   "cell_type": "code",
   "execution_count": 29,
   "metadata": {},
   "outputs": [
    {
     "data": {
      "text/html": [
       "<div>\n",
       "<style scoped>\n",
       "    .dataframe tbody tr th:only-of-type {\n",
       "        vertical-align: middle;\n",
       "    }\n",
       "\n",
       "    .dataframe tbody tr th {\n",
       "        vertical-align: top;\n",
       "    }\n",
       "\n",
       "    .dataframe thead th {\n",
       "        text-align: right;\n",
       "    }\n",
       "</style>\n",
       "<table border=\"1\" class=\"dataframe\">\n",
       "  <thead>\n",
       "    <tr style=\"text-align: right;\">\n",
       "      <th></th>\n",
       "      <th>cap-shape_b</th>\n",
       "      <th>cap-shape_c</th>\n",
       "      <th>cap-shape_f</th>\n",
       "      <th>cap-shape_k</th>\n",
       "      <th>cap-shape_s</th>\n",
       "      <th>cap-shape_x</th>\n",
       "      <th>cap-surface_f</th>\n",
       "      <th>cap-surface_g</th>\n",
       "      <th>cap-surface_s</th>\n",
       "      <th>cap-surface_y</th>\n",
       "    </tr>\n",
       "  </thead>\n",
       "  <tbody>\n",
       "    <tr>\n",
       "      <th>0</th>\n",
       "      <td>0</td>\n",
       "      <td>0</td>\n",
       "      <td>0</td>\n",
       "      <td>0</td>\n",
       "      <td>0</td>\n",
       "      <td>1</td>\n",
       "      <td>0</td>\n",
       "      <td>0</td>\n",
       "      <td>1</td>\n",
       "      <td>0</td>\n",
       "    </tr>\n",
       "    <tr>\n",
       "      <th>1</th>\n",
       "      <td>0</td>\n",
       "      <td>0</td>\n",
       "      <td>0</td>\n",
       "      <td>0</td>\n",
       "      <td>0</td>\n",
       "      <td>1</td>\n",
       "      <td>0</td>\n",
       "      <td>0</td>\n",
       "      <td>1</td>\n",
       "      <td>0</td>\n",
       "    </tr>\n",
       "    <tr>\n",
       "      <th>2</th>\n",
       "      <td>1</td>\n",
       "      <td>0</td>\n",
       "      <td>0</td>\n",
       "      <td>0</td>\n",
       "      <td>0</td>\n",
       "      <td>0</td>\n",
       "      <td>0</td>\n",
       "      <td>0</td>\n",
       "      <td>1</td>\n",
       "      <td>0</td>\n",
       "    </tr>\n",
       "    <tr>\n",
       "      <th>3</th>\n",
       "      <td>0</td>\n",
       "      <td>0</td>\n",
       "      <td>0</td>\n",
       "      <td>0</td>\n",
       "      <td>0</td>\n",
       "      <td>1</td>\n",
       "      <td>0</td>\n",
       "      <td>0</td>\n",
       "      <td>0</td>\n",
       "      <td>1</td>\n",
       "    </tr>\n",
       "    <tr>\n",
       "      <th>4</th>\n",
       "      <td>0</td>\n",
       "      <td>0</td>\n",
       "      <td>0</td>\n",
       "      <td>0</td>\n",
       "      <td>0</td>\n",
       "      <td>1</td>\n",
       "      <td>0</td>\n",
       "      <td>0</td>\n",
       "      <td>1</td>\n",
       "      <td>0</td>\n",
       "    </tr>\n",
       "  </tbody>\n",
       "</table>\n",
       "</div>"
      ],
      "text/plain": [
       "   cap-shape_b  cap-shape_c  cap-shape_f  cap-shape_k  cap-shape_s  \\\n",
       "0            0            0            0            0            0   \n",
       "1            0            0            0            0            0   \n",
       "2            1            0            0            0            0   \n",
       "3            0            0            0            0            0   \n",
       "4            0            0            0            0            0   \n",
       "\n",
       "   cap-shape_x  cap-surface_f  cap-surface_g  cap-surface_s  cap-surface_y  \n",
       "0            1              0              0              1              0  \n",
       "1            1              0              0              1              0  \n",
       "2            0              0              0              1              0  \n",
       "3            1              0              0              0              1  \n",
       "4            1              0              0              1              0  "
      ]
     },
     "execution_count": 29,
     "metadata": {},
     "output_type": "execute_result"
    }
   ],
   "source": [
    "mushrooms_part = mushroom_dataset[[\"cap-shape\", \"cap-surface\"]]\n",
    "mushrooms_dummies = pd.get_dummies(mushrooms_part)\n",
    "mushrooms_dummies.head()\n"
   ]
  },
  {
   "cell_type": "code",
   "execution_count": 30,
   "metadata": {},
   "outputs": [
    {
     "name": "stdout",
     "output_type": "stream",
     "text": [
      "iter: 500, loss: 0.2016386240720749\n",
      "iter: 1000, loss: 0.18955375254154205\n",
      "iter: 1500, loss: 0.18822568655014038\n",
      "iter: 2000, loss: 0.18683159351348877\n",
      "iter: 2500, loss: 0.18604055047035217\n",
      "iter: 3000, loss: 0.18562081456184387\n",
      "iter: 3500, loss: 0.18653236329555511\n",
      "iter: 4000, loss: 0.18196052312850952\n",
      "iter: 4500, loss: 0.19022859632968903\n",
      "iter: 5000, loss: 0.18676166236400604\n",
      "iter: 5500, loss: 0.18666218221187592\n",
      "iter: 6000, loss: 0.18902263045310974\n",
      "iter: 6500, loss: 0.1894744336605072\n",
      "iter: 7000, loss: 0.18393130600452423\n",
      "iter: 7500, loss: 0.1866980940103531\n",
      "iter: 8000, loss: 0.19092172384262085\n",
      "iter: 8500, loss: 0.18539248406887054\n",
      "iter: 9000, loss: 0.18428662419319153\n",
      "iter: 9500, loss: 0.18478989601135254\n",
      "iter: 10000, loss: 0.18462544679641724\n",
      "iter: 10500, loss: 0.18486972153186798\n",
      "iter: 11000, loss: 0.18673963844776154\n",
      "iter: 11500, loss: 0.18722787499427795\n",
      "iter: 12000, loss: 0.1876508593559265\n",
      "iter: 12500, loss: 0.1877484917640686\n",
      "iter: 13000, loss: 0.18544766306877136\n",
      "iter: 13500, loss: 0.19081273674964905\n",
      "iter: 14000, loss: 0.18511269986629486\n",
      "iter: 14500, loss: 0.18643786013126373\n",
      "iter: 15000, loss: 0.1834440976381302\n",
      "iter: 15500, loss: 0.18659085035324097\n",
      "iter: 16000, loss: 0.18623965978622437\n",
      "iter: 16500, loss: 0.18651510775089264\n",
      "16500\n"
     ]
    }
   ],
   "source": [
    "# Mix the data before training\n",
    "n = len(mushrooms_dummies)\n",
    "random_idx = np.random.permutation(n)\n",
    "features, labels = mushrooms_dummies.loc[random_idx,:], mushroom_dataset.loc[random_idx, \"label\"]\n",
    "\n",
    "# Create an instance and encode\n",
    "tf_ae = TF_AutoEncoder(features, labels)\n",
    "\n",
    "tf_ae.fit(n_dim=[6,2])\n"
   ]
  },
  {
   "cell_type": "code",
   "execution_count": 31,
   "metadata": {},
   "outputs": [
    {
     "name": "stdout",
     "output_type": "stream",
     "text": [
      "(8124, 6)\n"
     ]
    }
   ],
   "source": [
    "auto_encoded = tf_ae.reduce()"
   ]
  },
  {
   "cell_type": "code",
   "execution_count": 32,
   "metadata": {},
   "outputs": [
    {
     "data": {
      "text/plain": [
       "array([[-3.2631762 , -1.1080458 ],\n",
       "       [-6.763222  , -2.1008613 ],\n",
       "       [-2.333699  ,  1.9454173 ],\n",
       "       [-6.763222  , -2.1008613 ],\n",
       "       [-2.333699  ,  1.9454173 ],\n",
       "       [-8.222956  , -2.413523  ],\n",
       "       [-1.343277  , -0.59373045],\n",
       "       [-8.222956  , -2.413523  ],\n",
       "       [-1.343277  , -0.59373045],\n",
       "       [-2.0877492 , -0.6947862 ],\n",
       "       [-6.763222  , -2.1008613 ]], dtype=float32)"
      ]
     },
     "execution_count": 32,
     "metadata": {},
     "output_type": "execute_result"
    }
   ],
   "source": [
    "auto_encoded[:11,:]"
   ]
  },
  {
   "cell_type": "code",
   "execution_count": 33,
   "metadata": {},
   "outputs": [
    {
     "data": {
      "text/html": [
       "<div>\n",
       "<style scoped>\n",
       "    .dataframe tbody tr th:only-of-type {\n",
       "        vertical-align: middle;\n",
       "    }\n",
       "\n",
       "    .dataframe tbody tr th {\n",
       "        vertical-align: top;\n",
       "    }\n",
       "\n",
       "    .dataframe thead th {\n",
       "        text-align: right;\n",
       "    }\n",
       "</style>\n",
       "<table border=\"1\" class=\"dataframe\">\n",
       "  <thead>\n",
       "    <tr style=\"text-align: right;\">\n",
       "      <th></th>\n",
       "      <th>cap-shape_b</th>\n",
       "      <th>cap-shape_c</th>\n",
       "      <th>cap-shape_f</th>\n",
       "      <th>cap-shape_k</th>\n",
       "      <th>cap-shape_s</th>\n",
       "      <th>cap-shape_x</th>\n",
       "      <th>cap-surface_f</th>\n",
       "      <th>cap-surface_g</th>\n",
       "      <th>cap-surface_s</th>\n",
       "      <th>cap-surface_y</th>\n",
       "    </tr>\n",
       "  </thead>\n",
       "  <tbody>\n",
       "    <tr>\n",
       "      <th>0</th>\n",
       "      <td>0</td>\n",
       "      <td>0</td>\n",
       "      <td>0</td>\n",
       "      <td>1</td>\n",
       "      <td>0</td>\n",
       "      <td>0</td>\n",
       "      <td>1</td>\n",
       "      <td>0</td>\n",
       "      <td>0</td>\n",
       "      <td>0</td>\n",
       "    </tr>\n",
       "    <tr>\n",
       "      <th>1</th>\n",
       "      <td>0</td>\n",
       "      <td>0</td>\n",
       "      <td>0</td>\n",
       "      <td>0</td>\n",
       "      <td>0</td>\n",
       "      <td>1</td>\n",
       "      <td>0</td>\n",
       "      <td>0</td>\n",
       "      <td>0</td>\n",
       "      <td>1</td>\n",
       "    </tr>\n",
       "    <tr>\n",
       "      <th>2</th>\n",
       "      <td>0</td>\n",
       "      <td>0</td>\n",
       "      <td>1</td>\n",
       "      <td>0</td>\n",
       "      <td>0</td>\n",
       "      <td>0</td>\n",
       "      <td>0</td>\n",
       "      <td>0</td>\n",
       "      <td>1</td>\n",
       "      <td>0</td>\n",
       "    </tr>\n",
       "    <tr>\n",
       "      <th>3</th>\n",
       "      <td>0</td>\n",
       "      <td>0</td>\n",
       "      <td>0</td>\n",
       "      <td>0</td>\n",
       "      <td>0</td>\n",
       "      <td>1</td>\n",
       "      <td>0</td>\n",
       "      <td>0</td>\n",
       "      <td>0</td>\n",
       "      <td>1</td>\n",
       "    </tr>\n",
       "    <tr>\n",
       "      <th>4</th>\n",
       "      <td>0</td>\n",
       "      <td>0</td>\n",
       "      <td>1</td>\n",
       "      <td>0</td>\n",
       "      <td>0</td>\n",
       "      <td>0</td>\n",
       "      <td>0</td>\n",
       "      <td>0</td>\n",
       "      <td>1</td>\n",
       "      <td>0</td>\n",
       "    </tr>\n",
       "    <tr>\n",
       "      <th>5</th>\n",
       "      <td>0</td>\n",
       "      <td>0</td>\n",
       "      <td>1</td>\n",
       "      <td>0</td>\n",
       "      <td>0</td>\n",
       "      <td>0</td>\n",
       "      <td>0</td>\n",
       "      <td>0</td>\n",
       "      <td>0</td>\n",
       "      <td>1</td>\n",
       "    </tr>\n",
       "    <tr>\n",
       "      <th>6</th>\n",
       "      <td>0</td>\n",
       "      <td>0</td>\n",
       "      <td>0</td>\n",
       "      <td>0</td>\n",
       "      <td>0</td>\n",
       "      <td>1</td>\n",
       "      <td>1</td>\n",
       "      <td>0</td>\n",
       "      <td>0</td>\n",
       "      <td>0</td>\n",
       "    </tr>\n",
       "    <tr>\n",
       "      <th>7</th>\n",
       "      <td>0</td>\n",
       "      <td>0</td>\n",
       "      <td>1</td>\n",
       "      <td>0</td>\n",
       "      <td>0</td>\n",
       "      <td>0</td>\n",
       "      <td>0</td>\n",
       "      <td>0</td>\n",
       "      <td>0</td>\n",
       "      <td>1</td>\n",
       "    </tr>\n",
       "    <tr>\n",
       "      <th>8</th>\n",
       "      <td>0</td>\n",
       "      <td>0</td>\n",
       "      <td>0</td>\n",
       "      <td>0</td>\n",
       "      <td>0</td>\n",
       "      <td>1</td>\n",
       "      <td>1</td>\n",
       "      <td>0</td>\n",
       "      <td>0</td>\n",
       "      <td>0</td>\n",
       "    </tr>\n",
       "    <tr>\n",
       "      <th>9</th>\n",
       "      <td>0</td>\n",
       "      <td>0</td>\n",
       "      <td>0</td>\n",
       "      <td>0</td>\n",
       "      <td>0</td>\n",
       "      <td>1</td>\n",
       "      <td>0</td>\n",
       "      <td>0</td>\n",
       "      <td>1</td>\n",
       "      <td>0</td>\n",
       "    </tr>\n",
       "    <tr>\n",
       "      <th>10</th>\n",
       "      <td>0</td>\n",
       "      <td>0</td>\n",
       "      <td>0</td>\n",
       "      <td>0</td>\n",
       "      <td>0</td>\n",
       "      <td>1</td>\n",
       "      <td>0</td>\n",
       "      <td>0</td>\n",
       "      <td>0</td>\n",
       "      <td>1</td>\n",
       "    </tr>\n",
       "  </tbody>\n",
       "</table>\n",
       "</div>"
      ],
      "text/plain": [
       "    cap-shape_b  cap-shape_c  cap-shape_f  cap-shape_k  cap-shape_s  \\\n",
       "0             0            0            0            1            0   \n",
       "1             0            0            0            0            0   \n",
       "2             0            0            1            0            0   \n",
       "3             0            0            0            0            0   \n",
       "4             0            0            1            0            0   \n",
       "5             0            0            1            0            0   \n",
       "6             0            0            0            0            0   \n",
       "7             0            0            1            0            0   \n",
       "8             0            0            0            0            0   \n",
       "9             0            0            0            0            0   \n",
       "10            0            0            0            0            0   \n",
       "\n",
       "    cap-shape_x  cap-surface_f  cap-surface_g  cap-surface_s  cap-surface_y  \n",
       "0             0              1              0              0              0  \n",
       "1             1              0              0              0              1  \n",
       "2             0              0              0              1              0  \n",
       "3             1              0              0              0              1  \n",
       "4             0              0              0              1              0  \n",
       "5             0              0              0              0              1  \n",
       "6             1              1              0              0              0  \n",
       "7             0              0              0              0              1  \n",
       "8             1              1              0              0              0  \n",
       "9             1              0              0              1              0  \n",
       "10            1              0              0              0              1  "
      ]
     },
     "execution_count": 33,
     "metadata": {},
     "output_type": "execute_result"
    }
   ],
   "source": [
    "features.reset_index(drop=True).loc[:10, :]"
   ]
  },
  {
   "cell_type": "code",
   "execution_count": 22,
   "metadata": {},
   "outputs": [
    {
     "data": {
      "text/plain": [
       "<matplotlib.collections.PathCollection at 0x14b0013b710>"
      ]
     },
     "execution_count": 22,
     "metadata": {},
     "output_type": "execute_result"
    },
    {
     "data": {
      "image/png": "[encoded data removed]",
      "text/plain": [
       "<Figure size 432x288 with 1 Axes>"
      ]
     },
     "metadata": {
      "needs_background": "light"
     },
     "output_type": "display_data"
    }
   ],
   "source": [
    "color_mapping = {\"e\": \"red\", \"p\": \"blue\"}\n",
    "colors = list(map(lambda x: color_mapping[x], labels))\n",
    "\n",
    "plt.scatter(auto_encoded[:, 0], auto_encoded[:, 1], c=colors)"
   ]
  }
 ],
 "metadata": {
  "kernelspec": {
   "display_name": "tensorflow",
   "language": "python",
   "name": "tensorflow"
  },
  "language_info": {
   "codemirror_mode": {
    "name": "ipython",
    "version": 3
   },
   "file_extension": ".py",
   "mimetype": "text/x-python",
   "name": "python",
   "nbconvert_exporter": "python",
   "pygments_lexer": "ipython3",
   "version": "3.5.5"
  }
 },
 "nbformat": 4,
 "nbformat_minor": 2
}
